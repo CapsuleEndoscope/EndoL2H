{
 "cells": [
  {
   "cell_type": "code",
   "execution_count": 1,
   "metadata": {},
   "outputs": [],
   "source": [
    "import numpy as np\n",
    "import math\n",
    "import cv2\n",
    "from skimage.metrics import structural_similarity\n",
    "import imutils\n",
    "import os, sys\n",
    "import statistics \n",
    "import os\n",
    "from prettytable import PrettyTable\n",
    "import fnmatch\n",
    "from glob import glob\n",
    "import time"
   ]
  },
  {
   "cell_type": "code",
   "execution_count": 2,
   "metadata": {},
   "outputs": [],
   "source": [
    "def psnr(img1, img2):\n",
    "    mse = np.mean( (img1 - img2) ** 2 )\n",
    "    if mse == 0:\n",
    "        return 100\n",
    "    PIXEL_MAX = 255.0\n",
    "    return 20 * math.log10(PIXEL_MAX / math.sqrt(mse))"
   ]
  },
  {
   "cell_type": "code",
   "execution_count": 3,
   "metadata": {},
   "outputs": [],
   "source": [
    "def ssim(im1,im2):\n",
    "    grayA = cv2.cvtColor(im1, cv2.COLOR_BGR2GRAY)\n",
    "    grayB = cv2.cvtColor(im2, cv2.COLOR_BGR2GRAY)\n",
    "    (score, diff) = structural_similarity(grayA, grayB, full=True)\n",
    "    return score"
   ]
  },
  {
   "cell_type": "code",
   "execution_count": 4,
   "metadata": {},
   "outputs": [],
   "source": [
    "def get_progress(progress):\n",
    "    max_length=20\n",
    "    block = int(round(max_length*progress))\n",
    "    status=\" Done...\" if progress>=1 else \" \"\n",
    "    return ('Progress:[' + '=' * block +\n",
    "            ('>' if block < max_length else '') +\n",
    "            ' ' * (max_length - block) +\n",
    "            '] %.1f%%' % (progress * 100.)+status)"
   ]
  },
  {
   "cell_type": "code",
   "execution_count": 7,
   "metadata": {},
   "outputs": [
    {
     "name": "stdout",
     "output_type": "stream",
     "text": [
      "Processing Fold #1\n"
     ]
    },
    {
     "name": "stderr",
     "output_type": "stream",
     "text": [
      "\u001b[KProgress:[====================] 100.0% Done..."
     ]
    },
    {
     "name": "stdout",
     "output_type": "stream",
     "text": [
      "Processing Fold #2\n"
     ]
    },
    {
     "name": "stderr",
     "output_type": "stream",
     "text": [
      "\u001b[KProgress:[====================] 100.0% Done..."
     ]
    },
    {
     "name": "stdout",
     "output_type": "stream",
     "text": [
      "Processing Fold #3\n"
     ]
    },
    {
     "name": "stderr",
     "output_type": "stream",
     "text": [
      "\u001b[KProgress:[====================] 100.0% Done..."
     ]
    },
    {
     "name": "stdout",
     "output_type": "stream",
     "text": [
      "Processing Fold #4\n"
     ]
    },
    {
     "name": "stderr",
     "output_type": "stream",
     "text": [
      "\u001b[KProgress:[====================] 100.0% Done..."
     ]
    },
    {
     "name": "stdout",
     "output_type": "stream",
     "text": [
      "Processing Fold #5\n"
     ]
    },
    {
     "name": "stderr",
     "output_type": "stream",
     "text": [
      "\u001b[KProgress:[====================] 100.0% Done..."
     ]
    },
    {
     "name": "stdout",
     "output_type": "stream",
     "text": [
      "Calculation completed\n"
     ]
    }
   ],
   "source": [
    "fold_ssim_mean=[]\n",
    "fold_psnr_mean=[]\n",
    "fold_ssim_stdev=[]\n",
    "fold_psnr_stdev=[]\n",
    "\n",
    "for fold_number in range(1,6):\n",
    "    inc = 0\n",
    "    files=[]\n",
    "    preds=[]\n",
    "    ground_truths=[]\n",
    "    psnrs=[]\n",
    "    ssims=[]\n",
    "    start_dir = os.getcwd() + \"./results/unet_256/test_latest/fold\"+str(fold_number)\n",
    "    patterns   = [\"*.png\", \"*.jpg\",\"*.jpeg\"]\n",
    "    for pattern in patterns:\n",
    "        for dir,_,_ in sorted(os.walk(start_dir)):\n",
    "            files.extend(glob(os.path.join(dir,pattern))) \n",
    "    print(\"Processing Fold #{}\".format(fold_number))\n",
    "    \n",
    "    for file in files:\n",
    "        if \"fake_B\" in file:\n",
    "            preds.append(file)\n",
    "        elif \"real_B\" in file:\n",
    "            ground_truths.append(file)\n",
    "\n",
    "    number_of_files=len(preds)\n",
    "    \n",
    "    for i in range(number_of_files):\n",
    "        gt=ground_truths[i]\n",
    "        pred=preds[i]\n",
    "        gt_name=gt[gt.rfind(\"/\")+1:]\n",
    "        pred_name=pred[pred.rfind(\"/\")+1:]\n",
    "        gt_image = cv2.imread(gt)\n",
    "        pred_image = cv2.imread(pred)\n",
    "        p=psnr(gt_image,pred_image)\n",
    "        s=ssim(gt_image,pred_image)\n",
    "        inc = inc + 1\n",
    "        sys.stderr.write('\\r\\033[K' + get_progress(inc/number_of_files))\n",
    "        #sys.stderr.flush()\n",
    "        psnrs.append(p)\n",
    "        ssims.append(s)\n",
    "           \n",
    "    fold_psnr_mean.append(statistics.mean(psnrs))\n",
    "    fold_ssim_mean.append(statistics.mean(ssims))\n",
    "    fold_psnr_stdev.append(statistics.stdev(psnrs))\n",
    "    fold_ssim_stdev.append(statistics.stdev(ssims))\n",
    "    time.sleep(.1)\n",
    "    sys.stderr.flush()\n",
    "print(\"Calculation completed\")"
   ]
  },
  {
   "cell_type": "code",
   "execution_count": 8,
   "metadata": {},
   "outputs": [
    {
     "name": "stdout",
     "output_type": "stream",
     "text": [
      "+----------------+-------+--------------------+--------------------+--------------------+---------------------+\n",
      "| Algorithm name | Fold# |   PSNR Fold Mean   |   SSIM Fold Mean   |  PSNR Fold Stdev   |   SSIM Fold Stdev   |\n",
      "+----------------+-------+--------------------+--------------------+--------------------+---------------------+\n",
      "|    EndoL2H     |   1   | 33.79275371045731  | 0.7790007884475312 | 1.3445908121342998 |  0.0827830884611864 |\n",
      "|    EndoL2H     |   2   | 32.62549169387905  | 0.7199665061187138 | 1.1351787126223385 | 0.10028190042772774 |\n",
      "|    EndoL2H     |   3   | 32.943964730637724 | 0.7407974120855597 | 1.083992121997701  | 0.08894786990424274 |\n",
      "|    EndoL2H     |   4   | 32.582642405605526 | 0.7113114089565795 | 1.1007161521776727 | 0.10321824165628292 |\n",
      "|    EndoL2H     |   5   | 32.87387711353836  | 0.7304619223128992 | 1.232022178084014  | 0.09930372108879008 |\n",
      "+----------------+-------+--------------------+--------------------+--------------------+---------------------+\n",
      "\n",
      "+----------------+-------------------+---------------------+--------------------+----------------------+\n",
      "| Algorithm name |     PSNR Mean     |      PSNR Stdev     |     SSIM Mean      |      SSIM Stdev      |\n",
      "+----------------+-------------------+---------------------+--------------------+----------------------+\n",
      "|    EndoL2H     | 32.96374593082359 | 0.10875015101790061 | 0.7363076075842567 | 0.008657336647354363 |\n",
      "+----------------+-------------------+---------------------+--------------------+----------------------+\n"
     ]
    }
   ],
   "source": [
    "x = PrettyTable()\n",
    "x.field_names = [\"Algorithm name\", \"Fold#\", \"PSNR Fold Mean\", \"SSIM Fold Mean\", \"PSNR Fold Stdev\", \"SSIM Fold Stdev\"]\n",
    "y = PrettyTable()\n",
    "y.field_names = [\"Algorithm name\", \"PSNR Mean\", \"PSNR Stdev\", \"SSIM Mean\", \"SSIM Stdev\"]\n",
    "\n",
    "algorithm=\"EndoL2H\"\n",
    "\n",
    "for i in range(len(fold_psnr_mean)):\n",
    "    x.add_row([algorithm, i+1, fold_psnr_mean[i],fold_ssim_mean[i], fold_psnr_stdev[i], fold_ssim_stdev[i]])\n",
    "\n",
    "print(x)\n",
    "\n",
    "if len(fold_psnr_mean)>1:\n",
    "    y.add_row([algorithm, statistics.mean(fold_psnr_mean), statistics.stdev(fold_psnr_stdev), statistics.mean(fold_ssim_mean), statistics.stdev(fold_ssim_stdev)])\n",
    "    print()\n",
    "    print(y)"
   ]
  },
  {
   "cell_type": "code",
   "execution_count": null,
   "metadata": {},
   "outputs": [],
   "source": []
  }
 ],
 "metadata": {
  "kernelspec": {
   "display_name": "Python 3",
   "language": "python",
   "name": "python3"
  },
  "language_info": {
   "codemirror_mode": {
    "name": "ipython",
    "version": 3
   },
   "file_extension": ".py",
   "mimetype": "text/x-python",
   "name": "python",
   "nbconvert_exporter": "python",
   "pygments_lexer": "ipython3",
   "version": "3.8.2"
  }
 },
 "nbformat": 4,
 "nbformat_minor": 4
}
